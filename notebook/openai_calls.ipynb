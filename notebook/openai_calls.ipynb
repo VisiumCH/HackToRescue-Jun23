{
 "cells": [
  {
   "cell_type": "code",
   "execution_count": 2,
   "metadata": {},
   "outputs": [],
   "source": [
    "import openai\n",
    "\n",
    "openai.api_key = \"\"\n",
    "\n",
    "def generate_question_message(statement: str, text: str) -> list:\n",
    "    message = [{\n",
    "        \"role\": \"system\",\n",
    "        \"content\": \"\"\"\n",
    "You are an assistant that helps users clarify ideas about the topic \"autism\".\n",
    "You are provided with a statement related to the topic \"autism\". You will share 3 information sources (article, webpage, post) related to the statement.\n",
    "You will score them based on how correct the article are: A and B means well-researched, C-D refences lack of evidence and E-F is misinformation.\n",
    "As an answer please return the link of the source, a summary of the idea and the score.\n",
    "\"\"\",\n",
    "    }]\n",
    "\n",
    "    message += [\n",
    "        {\n",
    "            \"role\": \"user\",\n",
    "            \"content\": f\"Please answer the question: {statement}. Based on the text: {text}\"\n",
    "        }\n",
    "    ]\n",
    "    return message"
   ]
  },
  {
   "cell_type": "code",
   "execution_count": 3,
   "metadata": {},
   "outputs": [],
   "source": [
    "text = \"\"\"\n",
    "If the reasons for autism are related with these words: vaccination, vaccine, MMR vaccine, Glyphosate Herbicide, Testosterone, Parasites, Leaky gut or Toxins, the article should be scored with F.\n",
    "If autism is related to generitcs or hereditary, the article should be scored with A.\n",
    "If Environmental causes that might impact genetics are mentioned to be related to autism, the article should be scored with C.\n",
    "\"\"\""
   ]
  },
  {
   "cell_type": "code",
   "execution_count": 5,
   "metadata": {},
   "outputs": [],
   "source": [
    "statement = \"\"\"Autism MMS Miracle mineral solutions.\"\"\""
   ]
  },
  {
   "cell_type": "code",
   "execution_count": 23,
   "metadata": {},
   "outputs": [],
   "source": [
    "from os.path import exists\n",
    "import time\n",
    "import tqdm\n",
    "openai_model_name = \"gpt-3.5-turbo\"\n",
    "\n",
    "messages = generate_question_message(statement=statement, text=text)\n",
    "try:\n",
    "    response = openai.ChatCompletion.create(\n",
    "        model=openai_model_name,\n",
    "        messages=messages,\n",
    "        n=1,\n",
    "        max_tokens=1000,\n",
    "    )\n",
    "    time.sleep(2)\n",
    "except Exception as e:\n",
    "    print(\"Response not retrieved\")\n",
    "\n",
    "print(response[\"choices\"][0][\"message\"][\"content\"], sep=\"\\n\")\n"
   ]
  },
  {
   "cell_type": "code",
   "execution_count": 24,
   "metadata": {},
   "outputs": [
    {
     "data": {
      "text/plain": [
       "<OpenAIObject chat.completion id=chatcmpl-7RIWxnsJJIcl2fN77QPiIeTmu0YeX at 0x108fd85f0> JSON: {\n",
       "  \"id\": \"chatcmpl-7RIWxnsJJIcl2fN77QPiIeTmu0YeX\",\n",
       "  \"object\": \"chat.completion\",\n",
       "  \"created\": 1686740443,\n",
       "  \"model\": \"gpt-3.5-turbo-0301\",\n",
       "  \"usage\": {\n",
       "    \"prompt_tokens\": 224,\n",
       "    \"completion_tokens\": 390,\n",
       "    \"total_tokens\": 614\n",
       "  },\n",
       "  \"choices\": [\n",
       "    {\n",
       "      \"message\": {\n",
       "        \"role\": \"assistant\",\n",
       "        \"content\": \"Here are three sources related to the statement \\\"Autism MMS Miracle mineral solutions\\\": \\n\\n1. Article: \\\"Why Parents Are Turning to a Controversial Treatment for Autism\\\" by Eliana Dockterman published in Time Magazine. \\nLink: https://time.com/5323041/miracle-mineral-solution-autism-treatment/\\nSummary: The article discusses the use of Miracle Mineral Solution (MMS) as a supposed treatment for autism. The author explores the background of the product, its potential health risks, and why parents might turn to alternative treatments when their children are diagnosed with autism. Score: D \\n\\n2. Webpage: \\\"The Dangers of Miracle Mineral Solution (MMS)\\\" from the FDA. \\nLink: https://www.fda.gov/consumers/consumer-updates/danger-dont-drink-miracle-mineral-solution-or-similar-products\\nSummary: This webpage provides information about the risks associated with consuming MMS, a solution made of sodium chlorite and water, that is often marketed as a remedy for a range of health issues, including autism. The article explains how MMS can cause harm and advises readers not to consume the product. Score: A \\n\\n3. Post: \\\"Miracle Mineral Solution (MMS) and Autism: Facts and Fiction\\\" by Emily Willingham published on Forbes. \\nLink: https://www.forbes.com/sites/emilywillingham/2015/09/26/miracle-mineral-solution-msm-and-autism-facts-and-fiction/?sh=5d2d4c1e700a\\nSummary: In this post, the author analyzes the use of MMS as a supposed cure for autism and debunks some of the myths surrounding this controversial treatment. She provides links to studies that debunk the claims made about MMS, and emphasizes the dangers of giving unproven treatments to children with autism. Score: D.\"\n",
       "      },\n",
       "      \"finish_reason\": \"stop\",\n",
       "      \"index\": 0\n",
       "    }\n",
       "  ]\n",
       "}"
      ]
     },
     "execution_count": 24,
     "metadata": {},
     "output_type": "execute_result"
    }
   ],
   "source": [
    "response"
   ]
  },
  {
   "cell_type": "code",
   "execution_count": 26,
   "metadata": {},
   "outputs": [
    {
     "name": "stdout",
     "output_type": "stream",
     "text": [
      "Here are three sources related to the statement \"Autism MMS Miracle mineral solutions\": \n",
      "\n",
      "1. Article: \"Why Parents Are Turning to a Controversial Treatment for Autism\" by Eliana Dockterman published in Time Magazine. \n",
      "Link: https://time.com/5323041/miracle-mineral-solution-autism-treatment/\n",
      "Summary: The article discusses the use of Miracle Mineral Solution (MMS) as a supposed treatment for autism. The author explores the background of the product, its potential health risks, and why parents might turn to alternative treatments when their children are diagnosed with autism. Score: D \n",
      "\n",
      "2. Webpage: \"The Dangers of Miracle Mineral Solution (MMS)\" from the FDA. \n",
      "Link: https://www.fda.gov/consumers/consumer-updates/danger-dont-drink-miracle-mineral-solution-or-similar-products\n",
      "Summary: This webpage provides information about the risks associated with consuming MMS, a solution made of sodium chlorite and water, that is often marketed as a remedy for a range of health issues, including autism. The article explains how MMS can cause harm and advises readers not to consume the product. Score: A \n",
      "\n",
      "3. Post: \"Miracle Mineral Solution (MMS) and Autism: Facts and Fiction\" by Emily Willingham published on Forbes. \n",
      "Link: https://www.forbes.com/sites/emilywillingham/2015/09/26/miracle-mineral-solution-msm-and-autism-facts-and-fiction/?sh=5d2d4c1e700a\n",
      "Summary: In this post, the author analyzes the use of MMS as a supposed cure for autism and debunks some of the myths surrounding this controversial treatment. She provides links to studies that debunk the claims made about MMS, and emphasizes the dangers of giving unproven treatments to children with autism. Score: D.\n"
     ]
    }
   ],
   "source": [
    "print(response[\"choices\"][0][\"message\"][\"content\"], sep=\"\\n\")"
   ]
  }
 ],
 "metadata": {
  "kernelspec": {
   "display_name": "HackToRescue-YjQDh1Le",
   "language": "python",
   "name": "python3"
  },
  "language_info": {
   "codemirror_mode": {
    "name": "ipython",
    "version": 3
   },
   "file_extension": ".py",
   "mimetype": "text/x-python",
   "name": "python",
   "nbconvert_exporter": "python",
   "pygments_lexer": "ipython3",
   "version": "3.11.2"
  },
  "orig_nbformat": 4
 },
 "nbformat": 4,
 "nbformat_minor": 2
}
